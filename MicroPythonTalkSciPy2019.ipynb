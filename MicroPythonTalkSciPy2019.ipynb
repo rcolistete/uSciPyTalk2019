{
 "cells": [
  {
   "cell_type": "markdown",
   "metadata": {
    "slideshow": {
     "slide_type": "slide"
    }
   },
   "source": [
    "#  Scientific MicroPython on Microcontrollers and IoT\n",
    "<center><img src=\"http://www.robertocolistete.net/MicroPythonSciPy2017/micropython-with-pyboard-logo.jpg\" alt=\"MicroPython with Pyboard logo\" width=\"480\" height=\"240\"></center>\n",
    "\n",
    "## (Submission) Talk @ [SciPy 2019](https://scipy2019.scipy.org) - ??/07/2019\n",
    "## [Roberto Colistete Jr.](https://translate.google.com/translate?sl=pt&tl=en&js=y&prev=_t&hl=pt-BR&ie=UTF-8&u=https%3A%2F%2Frobertocolistete.wordpress.com%2F&edit-text=)\n",
    "## Physicist at [Federal University of Espírito Santo (UFES)](http://alegre.ufes.br/) - Alegre/ES/Brazil\n",
    "This presentation uses [Jupyter notebook](http://jupyter.org/), free and open source software.\n",
    "### [https://github.com/rcolistete/uSciPyTalk2019](https://github.com/rcolistete/uSciPyTalk2019)"
   ]
  },
  {
   "cell_type": "markdown",
   "metadata": {
    "slideshow": {
     "slide_type": "slide"
    }
   },
   "source": [
    "# What is MicroPython ?"
   ]
  },
  {
   "cell_type": "markdown",
   "metadata": {
    "slideshow": {
     "slide_type": "fragment"
    }
   },
   "source": [
    "## [MicroPython (micropython.org)](http://micropython.org/) is a free and open source implementation of Python 3 optimised to run on a microcontroller, created in 2013 by the physicist [Damien P. George](http://dpgeorge.net/). The MicroPython boards runs MicroPython on the bare metal and gives a low-level Python operating system running interactive prompt or scripts."
   ]
  },
  {
   "cell_type": "markdown",
   "metadata": {
    "collapsed": true,
    "slideshow": {
     "slide_type": "fragment"
    }
   },
   "source": [
    "## MicroPython boards have many [electronic interfaces](http://micropython.org/resources/pybv10-pinout.jpg) : digital input/output (GPIO) ports, analog inputs (via Analog Digital Converter), analog outputs (via Digital to Analog Converter), wireless (WiFi, Bluetooth, LoRa), etc. So MicroPython on these boards can be used to control all kinds of electronic projects."
   ]
  },
  {
   "cell_type": "markdown",
   "metadata": {
    "slideshow": {
     "slide_type": "slide"
    }
   },
   "source": [
    "# MicroPython boards history"
   ]
  },
  {
   "cell_type": "markdown",
   "metadata": {
    "slideshow": {
     "slide_type": "fragment"
    }
   },
   "source": [
    "## Until 2015, there was only 4 MicroPython boards : [Pyboard](https://micropython.org/store/#/products/PYBv1_1), [Pyboard Lite](https://store.micropython.org/store/#/products/PYBLITEv1_0-AC), [WiPy 1 (with WiFi)](https://www.kickstarter.com/projects/wipy/the-wipy-the-internet-of-things-taken-to-the-next), [OpenMV Cam M4 (with camera)](https://openmv.io/collections/products/products/openmv-cam)."
   ]
  },
  {
   "cell_type": "markdown",
   "metadata": {
    "slideshow": {
     "slide_type": "fragment"
    }
   },
   "source": [
    "## In terms of hardware, 2016 was a great year for MicroPython with new boards compatible with Python : [ESP8266](https://www.kickstarter.com/projects/214379695/micropython-on-the-esp8266-beautifully-easy-iot/description) boards (there are more than 10 types, with WiFi), [BBC Micro:bit](http://microbit.org/) (with Bluetooth LE, free distributed to 1 million British students of 11-12 year-old), [WiPy 2](https://www.pycom.io/product/wipy/) (with WiFi, Bluetooth LE) [LoPy](https://www.pycom.io/product/lopy/) (with LoRa, WiFi, Bluetooth LE), [SiPy](https://www.pycom.io/product/sipy/) (with Sigfox, WiFi, Bluetooth LE)."
   ]
  },
  {
   "cell_type": "markdown",
   "metadata": {
    "slideshow": {
     "slide_type": "subslide"
    }
   },
   "source": [
    "## In 2017, [FiPy](https://www.pycom.io/product/fipy/) (a 5 network board with LoRa, Sigfox, cellular LTE-CATM1/M2, WiFi, Bluetooth LE), [GPy](https://www.pycom.io/product/gpy/) (cellular LTE-CATM1/M2, WiFi, Bluetooth LE), [OpenMV Cam M7](https://openmv.io/collections/products/products/openmv-cam-m7) and many Adafruit boards [Arduino Zero](https://www.adafruit.com/product/2843), [Adafruit Feather M0 Basic](https://www.adafruit.com/product/2772), [Adafruit Feather HUZZAH](https://www.adafruit.com/product/2821) and [Adafruit Feather M0 Bluefruit LE](https://www.adafruit.com/product/2995). "
   ]
  },
  {
   "cell_type": "markdown",
   "metadata": {
    "slideshow": {
     "slide_type": "fragment"
    }
   },
   "source": [
    "##  These MicroPython boards cost between USD/EUR2-55, are very small and light, about some to tens of mm (milimeters) in each dimension and about 5-10 g, have low power consumption, so MicroPython boards are affordable and can be embedded in almost anything, almost anywhere..."
   ]
  },
  {
   "cell_type": "markdown",
   "metadata": {
    "slideshow": {
     "slide_type": "slide"
    }
   },
   "source": [
    "# MicroPython software"
   ]
  },
  {
   "cell_type": "markdown",
   "metadata": {
    "slideshow": {
     "slide_type": "fragment"
    }
   },
   "source": [
    "## MicroPython is free and open software : [https://github.com/micropython/micropython](https://github.com/micropython/micropython)."
   ]
  },
  {
   "cell_type": "markdown",
   "metadata": {
    "slideshow": {
     "slide_type": "fragment"
    }
   },
   "source": [
    "## In terms of software, MicroPython allows microcontroller programming directly with interactive prompt or scripts, which is easier and more productive than programming with Arduino IDE, C/C++, etc."
   ]
  },
  {
   "cell_type": "markdown",
   "metadata": {
    "slideshow": {
     "slide_type": "fragment"
    }
   },
   "source": [
    "## MicroPython is well suited for Internet programming, so MicroPython boards are a natural choice for IoT (Internet of Things), for example running a simple web server to show a sensor output (text and graphics), sending sensor data to IoT cloud, etc. This fact is very important as today there are some billions of IoT devices worldwide, and in 2020 some tens of billions are expected, so scientific MicroPython can increase the user base of scientific Python."
   ]
  },
  {
   "cell_type": "markdown",
   "metadata": {
    "slideshow": {
     "slide_type": "subslide"
    }
   },
   "source": [
    "## Even with RAM constraints (8 to about 100 of Kbytes of free RAM), scientific MicroPython is not only possible, but already available and practical to use, with some MicroPython modules capable of numerical calculations, like the math module, FFT (Fast Fourier Transform), calculations with uncertainties, etc."
   ]
  },
  {
   "cell_type": "markdown",
   "metadata": {
    "slideshow": {
     "slide_type": "slide"
    }
   },
   "source": [
    "# MicroPython Live Demonstration"
   ]
  },
  {
   "cell_type": "markdown",
   "metadata": {
    "slideshow": {
     "slide_type": "fragment"
    }
   },
   "source": [
    "## The [main MicroPython site](https://micropython.org/) has an experimental [MicroPython online](https://micropython.org/unicorn/), as well a [test drive of Pyboard](http://micropython.org/live/) with some accessories."
   ]
  },
  {
   "cell_type": "markdown",
   "metadata": {
    "slideshow": {
     "slide_type": "fragment"
    }
   },
   "source": [
    "## MicroPython can also be tested on Linux, but without any electronic interfaces."
   ]
  },
  {
   "cell_type": "markdown",
   "metadata": {
    "slideshow": {
     "slide_type": "fragment"
    }
   },
   "source": [
    "## Now I will present a demo of some MicroPython boards connected to sensors and Internet, with scientific modules processing sensor data. I will also show how to port Python 3 modules to MicroPython."
   ]
  },
  {
   "cell_type": "markdown",
   "metadata": {
    "slideshow": {
     "slide_type": "fragment"
    }
   },
   "source": [
    "## My participation on [Futebol Project](http://www.ict-futebol.org.br/) is about IoT experiment which includes use of MicroPython on many IoT devices connected to many sensors."
   ]
  },
  {
   "cell_type": "markdown",
   "metadata": {
    "slideshow": {
     "slide_type": "slide"
    }
   },
   "source": [
    "# Acknowledgments\n",
    "## Roberto Colistete Jr. thanks the SciPy 2019 Conference organization for the hospitability and financial support."
   ]
  },
  {
   "cell_type": "code",
   "execution_count": null,
   "metadata": {},
   "outputs": [],
   "source": []
  }
 ],
 "metadata": {
  "anaconda-cloud": {},
  "celltoolbar": "Slideshow",
  "kernelspec": {
   "display_name": "Python 2",
   "language": "python",
   "name": "python2"
  },
  "language_info": {
   "codemirror_mode": {
    "name": "ipython",
    "version": 2
   },
   "file_extension": ".py",
   "mimetype": "text/x-python",
   "name": "python",
   "nbconvert_exporter": "python",
   "pygments_lexer": "ipython2",
   "version": "2.7.15"
  }
 },
 "nbformat": 4,
 "nbformat_minor": 1
}
